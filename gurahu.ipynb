{
 "cells": [
  {
   "cell_type": "code",
   "execution_count": 4,
   "metadata": {},
   "outputs": [
    {
     "ename": "AttributeError",
     "evalue": "partially initialized module 'numpy' has no attribute 'array' (most likely due to a circular import)",
     "output_type": "error",
     "traceback": [
      "\u001b[0;31m---------------------------------------------------------------------------\u001b[0m",
      "\u001b[0;31mAttributeError\u001b[0m                            Traceback (most recent call last)",
      "\u001b[1;32m/home/kali/Desktop/python/python_test/gurahu.ipynb セル 1\u001b[0m in \u001b[0;36m1\n\u001b[0;32m----> <a href='vscode-notebook-cell:/home/kali/Desktop/python/python_test/gurahu.ipynb#W0sZmlsZQ%3D%3D?line=0'>1</a>\u001b[0m \u001b[39mimport\u001b[39;00m \u001b[39mnumpy\u001b[39;00m \u001b[39mas\u001b[39;00m \u001b[39mnp\u001b[39;00m\n\u001b[1;32m      <a href='vscode-notebook-cell:/home/kali/Desktop/python/python_test/gurahu.ipynb#W0sZmlsZQ%3D%3D?line=1'>2</a>\u001b[0m \u001b[39mimport\u001b[39;00m \u001b[39mpandas\u001b[39;00m \u001b[39mas\u001b[39;00m \u001b[39mpd\u001b[39;00m\n\u001b[1;32m      <a href='vscode-notebook-cell:/home/kali/Desktop/python/python_test/gurahu.ipynb#W0sZmlsZQ%3D%3D?line=2'>3</a>\u001b[0m \u001b[39mimport\u001b[39;00m \u001b[39mmatplotlib\u001b[39;00m\u001b[39m.\u001b[39;00m\u001b[39mpyplot\u001b[39;00m \u001b[39mas\u001b[39;00m \u001b[39mplt\u001b[39;00m\n",
      "File \u001b[0;32m~/Desktop/python/python_test/numpy.py:5\u001b[0m\n\u001b[1;32m      3\u001b[0m \u001b[39mimport\u001b[39;00m \u001b[39mnumpy\u001b[39;00m \u001b[39mas\u001b[39;00m \u001b[39mnp\u001b[39;00m\n\u001b[1;32m      4\u001b[0m a \u001b[39m=\u001b[39m [\u001b[39m10\u001b[39m, \u001b[39m11\u001b[39m, \u001b[39m12\u001b[39m, \u001b[39m13\u001b[39m, \u001b[39m14\u001b[39m, \u001b[39m15\u001b[39m]\n\u001b[0;32m----> 5\u001b[0m n_a \u001b[39m=\u001b[39m np\u001b[39m.\u001b[39;49marray(a)\n\u001b[1;32m      6\u001b[0m \u001b[39mprint\u001b[39m(n_a)\n\u001b[1;32m      7\u001b[0m \u001b[39mprint\u001b[39m(n_a[\u001b[39m1\u001b[39m])\n",
      "\u001b[0;31mAttributeError\u001b[0m: partially initialized module 'numpy' has no attribute 'array' (most likely due to a circular import)"
     ]
    }
   ],
   "source": [
    "import numpy as np\n",
    "import pandas as pd\n",
    "import matplotlib.pyplot as plt\n",
    "\n",
    "\n",
    "random_data = np.random.rand(100)\n",
    "\n",
    "\n",
    "series_data = pd.Series(random_data)\n",
    "\n",
    "\n",
    "df = pd.DataFrame({'Data': series_data})\n",
    "\n",
    "\n",
    "statistics = df.describe()\n",
    "\n",
    "\n",
    "statistics.to_csv('statistics.csv')\n",
    "\n",
    "\n",
    "plt.plot(df.index, df['Data'])\n",
    "plt.xlabel('Index')\n",
    "plt.ylabel('Data')\n",
    "plt.title('Random Data')\n",
    "plt.show()\n",
    "\n",
    "\n",
    "plt.plot(df.index, df['Data'])\n",
    "plt.xlabel('Index')\n",
    "plt.ylabel('Data')\n",
    "plt.title('Random Data')\n",
    "plt.savefig('graph.png')"
   ]
  }
 ],
 "metadata": {
  "kernelspec": {
   "display_name": "Python 3",
   "language": "python",
   "name": "python3"
  },
  "language_info": {
   "codemirror_mode": {
    "name": "ipython",
    "version": 3
   },
   "file_extension": ".py",
   "mimetype": "text/x-python",
   "name": "python",
   "nbconvert_exporter": "python",
   "pygments_lexer": "ipython3",
   "version": "3.11.2"
  },
  "orig_nbformat": 4
 },
 "nbformat": 4,
 "nbformat_minor": 2
}
